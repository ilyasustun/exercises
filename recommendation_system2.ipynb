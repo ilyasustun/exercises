{
 "cells": [
  {
   "cell_type": "code",
   "execution_count": 8,
   "id": "ad6e92b8",
   "metadata": {},
   "outputs": [
    {
     "name": "stdout",
     "output_type": "stream",
     "text": [
      "👤 Simulated Low-Income User (Standardized):\n",
      "relationship_Own-child               2.329125\n",
      "marital-status_Never-married         1.431058\n",
      "race_White                           0.413020\n",
      "native-country_United-States         0.340954\n",
      "native-country_Holand-Netherlands   -0.005542\n",
      "Name: 13608, dtype: float64\n",
      "\n",
      "🎯 Recommended Occupations Based on Similar High-Income Users:\n",
      " - Adm-clerical (appears in top 3 matches)\n",
      " - Prof-specialty (appears in top 3 matches)\n",
      " - ? (appears in top 1 matches)\n",
      " - Craft-repair (appears in top 1 matches)\n",
      " - Other-service (appears in top 1 matches)\n",
      " - Exec-managerial (appears in top 1 matches)\n",
      "\n",
      "👔 Original Job: Machine-op-inspct\n"
     ]
    }
   ],
   "source": [
    "import pandas as pd\n",
    "from sklearn.preprocessing import StandardScaler\n",
    "from sklearn.metrics.pairwise import cosine_similarity\n",
    "import numpy as np\n",
    "\n",
    "# 1. Load and clean data\n",
    "url = \"https://archive.ics.uci.edu/ml/machine-learning-databases/adult/adult.data\"\n",
    "columns = ['age', 'workclass', 'fnlwgt', 'education', 'education-num',\n",
    "           'marital-status', 'occupation', 'relationship', 'race', 'sex',\n",
    "           'capital-gain', 'capital-loss', 'hours-per-week', 'native-country', 'income']\n",
    "\n",
    "df = pd.read_csv(url, names=columns, na_values=' ?', skipinitialspace=True)\n",
    "df.dropna(inplace=True)\n",
    "df.drop(['fnlwgt', 'education'], axis=1, inplace=True)\n",
    "\n",
    "# Save occupation for later mapping\n",
    "df['occupation_orig'] = df['occupation']\n",
    "\n",
    "# 2. One-hot encode\n",
    "df_encoded = pd.get_dummies(df.drop(columns=['occupation_orig']), drop_first=True)\n",
    "X = df_encoded.drop('income_>50K', axis=1)\n",
    "y = df_encoded['income_>50K']\n",
    "\n",
    "# 3. Normalize\n",
    "scaler = StandardScaler()\n",
    "X_scaled = pd.DataFrame(scaler.fit_transform(X), columns=X.columns)\n",
    "\n",
    "# 4. Separate by income\n",
    "X_high = X_scaled[y == 1]\n",
    "X_low = X_scaled[y == 0]\n",
    "df_high = df[y == 1].reset_index(drop=True)  # original high-income rows\n",
    "\n",
    "# 5. Select one low-income person\n",
    "sim_user = X_low.sample(1)\n",
    "\n",
    "# 6. Compute similarity to high-income users\n",
    "similarities = cosine_similarity(sim_user, X_high)\n",
    "top_indices = similarities[0].argsort()[-10:][::-1]  # top 10 matches\n",
    "top_matches = df_high.iloc[top_indices]\n",
    "\n",
    "# 7. Recommend occupations from top matches\n",
    "recommended_jobs = top_matches['occupation_orig'].value_counts()\n",
    "\n",
    "# 8. Output results\n",
    "print(\"👤 Simulated Low-Income User (Standardized):\")\n",
    "print(sim_user.iloc[0].sort_values(ascending=False).head(5))\n",
    "\n",
    "print(\"\\n🎯 Recommended Occupations Based on Similar High-Income Users:\")\n",
    "for job, count in recommended_jobs.items():\n",
    "    print(f\" - {job} (appears in top {count} matches)\")\n",
    "\n",
    "# Optional: Show original job of the low-income user\n",
    "original_user_index = X_low.index[sim_user.index[0]]\n",
    "original_job = df.loc[original_user_index, 'occupation_orig']\n",
    "print(f\"\\n👔 Original Job: {original_job}\")\n"
   ]
  },
  {
   "cell_type": "code",
   "execution_count": null,
   "id": "0c0295e5",
   "metadata": {},
   "outputs": [],
   "source": []
  }
 ],
 "metadata": {
  "kernelspec": {
   "display_name": "ml",
   "language": "python",
   "name": "python3"
  },
  "language_info": {
   "codemirror_mode": {
    "name": "ipython",
    "version": 3
   },
   "file_extension": ".py",
   "mimetype": "text/x-python",
   "name": "python",
   "nbconvert_exporter": "python",
   "pygments_lexer": "ipython3",
   "version": "3.12.9"
  }
 },
 "nbformat": 4,
 "nbformat_minor": 5
}
