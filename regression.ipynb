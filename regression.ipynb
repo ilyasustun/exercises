{
 "cells": [
  {
   "cell_type": "markdown",
   "metadata": {},
   "source": [
    "Ilyas Ustun  \n"
   ]
  },
  {
   "cell_type": "markdown",
   "metadata": {},
   "source": [
    "# Neural Network Regression Exercise\n",
    "\n",
    "## Objective\n",
    "In this exercise, you will build and train a simple neural network to predict house prices using the California Housing dataset. You'll learn how to:\n",
    "\n",
    "1. Load and explore data\n",
    "2. Prepare data for neural networks\n",
    "3. Build a simple neural network for regression\n",
    "4. Train and evaluate the model\n",
    "5. Visualize results\n",
    "\n",
    "## Dataset\n",
    "We'll use the California Housing dataset from sklearn, which contains information about housing districts in California. Our goal is to predict the median house value based on features like location, population, and income."
   ]
  },
  {
   "cell_type": "markdown",
   "metadata": {},
   "source": [
    "## Task 1: Import Required Libraries\n",
    "\n",
    "Import the necessary libraries for this exercise. We'll keep it simple with just the essential ones."
   ]
  },
  {
   "cell_type": "code",
   "execution_count": null,
   "metadata": {},
   "outputs": [],
   "source": [
    "# TODO: Import the required libraries\n",
    "# You need: tensorflow, numpy, matplotlib, and sklearn\n",
    "\n",
    "# Your code here:\n",
    "import tensorflow as tf\n",
    "import numpy as np\n",
    "import matplotlib.pyplot as plt\n",
    "from sklearn.datasets import fetch_california_housing\n",
    "from sklearn.model_selection import train_test_split\n",
    "from sklearn.preprocessing import StandardScaler\n",
    "\n",
    "print(\"Libraries imported successfully!\")"
   ]
  },
  {
   "cell_type": "markdown",
   "metadata": {},
   "source": [
    "## Task 2: Load and Explore the Dataset\n",
    "\n",
    "Load the California Housing dataset and explore its structure."
   ]
  },
  {
   "cell_type": "code",
   "execution_count": null,
   "metadata": {},
   "outputs": [],
   "source": [
    "# TODO: Load the California Housing dataset\n",
    "# Hint: Use fetch_california_housing() from sklearn\n",
    "\n",
    "# Your code here:\n",
    "\n",
    "\n",
    "# TODO: Print information about the dataset\n",
    "# Print shapes, feature names, and basic statistics\n",
    "\n",
    "# Your code here:\n",
    "\n",
    "\n",
    "# TODO: Create a simple plot showing the distribution of house prices\n",
    "# Your code here:\n",
    "\n"
   ]
  },
  {
   "cell_type": "markdown",
   "metadata": {},
   "source": [
    "## Task 3: Prepare the Data\n",
    "\n",
    "Split the data into training and testing sets, then normalize the features."
   ]
  },
  {
   "cell_type": "code",
   "execution_count": null,
   "metadata": {},
   "outputs": [],
   "source": [
    "# TODO: Split the data into training and testing sets\n",
    "# Use train_test_split with test_size=0.2 and random_state=42\n",
    "\n",
    "# Your code here:\n",
    "\n",
    "\n",
    "# TODO: Normalize the features using StandardScaler\n",
    "# Remember to fit on training data and transform both train and test\n",
    "\n",
    "# Your code here:\n",
    "\n",
    "\n",
    "# TODO: Print the shapes of your final datasets\n",
    "# Your code here:\n",
    "\n"
   ]
  },
  {
   "cell_type": "markdown",
   "metadata": {},
   "source": [
    "## Task 4: Build a Simple Neural Network\n",
    "\n",
    "Create a simple neural network with just 2 hidden layers. Keep it beginner-friendly!"
   ]
  },
  {
   "cell_type": "code",
   "execution_count": null,
   "metadata": {},
   "outputs": [],
   "source": [
    "# TODO: Build a simple neural network model\n",
    "# Architecture suggestion:\n",
    "# - Input layer (number of features)\n",
    "# - Hidden layer 1: 50 neurons, ReLU activation\n",
    "# - Hidden layer 2: 25 neurons, ReLU activation  \n",
    "# - Output layer: 1 neuron, no activation (for regression)\n",
    "\n",
    "# Your code here:\n",
    "\n",
    "\n",
    "# TODO: Display the model summary\n",
    "# Your code here:\n",
    "\n"
   ]
  },
  {
   "cell_type": "markdown",
   "metadata": {},
   "source": [
    "## Task 5: Compile the Model\n",
    "\n",
    "Compile the model with appropriate settings for regression."
   ]
  },
  {
   "cell_type": "code",
   "execution_count": null,
   "metadata": {},
   "outputs": [],
   "source": [
    "# TODO: Compile the model\n",
    "# Use:\n",
    "# - optimizer: 'adam'\n",
    "# - loss: 'mean_squared_error' (or 'mse')\n",
    "# - metrics: ['mean_absolute_error'] (or ['mae'])\n",
    "\n",
    "# Your code here:\n",
    "\n",
    "\n",
    "print(\"Model compiled successfully!\")"
   ]
  },
  {
   "cell_type": "markdown",
   "metadata": {},
   "source": [
    "## Task 6: Train the Model\n",
    "\n",
    "Train the model on your prepared data."
   ]
  },
  {
   "cell_type": "code",
   "execution_count": null,
   "metadata": {},
   "outputs": [],
   "source": [
    "# TODO: Train the model\n",
    "# Use:\n",
    "# - epochs: 100\n",
    "# - batch_size: 32\n",
    "# - validation_split: 0.2\n",
    "# - verbose: 1 (to see training progress)\n",
    "\n",
    "# Your code here:\n",
    "\n",
    "\n",
    "print(\"Training completed!\")"
   ]
  },
  {
   "cell_type": "markdown",
   "metadata": {},
   "source": [
    "## Task 7: Visualize Training Progress\n",
    "\n",
    "Create plots to see how the model learned during training."
   ]
  },
  {
   "cell_type": "code",
   "execution_count": null,
   "metadata": {},
   "outputs": [],
   "source": [
    "# TODO: Plot training history\n",
    "# Create two subplots: one for loss, one for MAE\n",
    "# Plot both training and validation metrics\n",
    "\n",
    "# Your code here:\n",
    "\n"
   ]
  },
  {
   "cell_type": "markdown",
   "metadata": {},
   "source": [
    "## Task 8: Test the Model\n",
    "\n",
    "Evaluate the model on the test set and make predictions."
   ]
  },
  {
   "cell_type": "code",
   "execution_count": null,
   "metadata": {},
   "outputs": [],
   "source": [
    "# TODO: Evaluate the model on test data\n",
    "# Your code here:\n",
    "\n",
    "\n",
    "# TODO: Make predictions on test set\n",
    "# Your code here:\n",
    "\n",
    "\n",
    "# TODO: Print some example predictions vs actual values\n",
    "# Show the first 10 predictions\n",
    "# Your code here:\n",
    "\n"
   ]
  },
  {
   "cell_type": "markdown",
   "metadata": {},
   "source": [
    "## Task 9: Visualize Results\n",
    "\n",
    "Create visualizations to understand how well your model performed."
   ]
  },
  {
   "cell_type": "code",
   "execution_count": null,
   "metadata": {},
   "outputs": [],
   "source": [
    "# TODO: Create a scatter plot of actual vs predicted values\n",
    "# Add a diagonal line to show perfect predictions\n",
    "# Your code here:\n",
    "\n",
    "\n",
    "# TODO: Create a histogram of prediction errors\n",
    "# Calculate errors as: actual - predicted\n",
    "# Your code here:\n",
    "\n"
   ]
  },
  {
   "cell_type": "markdown",
   "metadata": {},
   "source": [
    "## Bonus Challenge: Try Different Settings\n",
    "\n",
    "Experiment with different model settings to see if you can improve performance."
   ]
  },
  {
   "cell_type": "code",
   "execution_count": null,
   "metadata": {},
   "outputs": [],
   "source": [
    "# TODO: Try building a model with different architecture\n",
    "# Ideas to try:\n",
    "# - More or fewer neurons in hidden layers\n",
    "# - Add a third hidden layer\n",
    "# - Try different activation functions\n",
    "# - Train for more epochs\n",
    "\n",
    "# Your experimental code here:\n",
    "\n"
   ]
  },
  {
   "cell_type": "markdown",
   "metadata": {},
   "source": [
    "## Summary Questions\n",
    "\n",
    "Answer these questions to check your understanding:\n",
    "\n",
    "1. **What does the loss function measure in regression?**\n",
    "\n",
    "2. **Why do we normalize the input features?**\n",
    "\n",
    "3. **What does it mean if the validation loss is much higher than training loss?**\n",
    "\n",
    "4. **How can you tell if your model is making good predictions from the scatter plot?**\n",
    "\n",
    "5. **What would you try next to improve your model's performance?**"
   ]
  }
 ],
 "metadata": {
  "kernelspec": {
   "display_name": "Python 3",
   "language": "python",
   "name": "python3"
  },
  "language_info": {
   "codemirror_mode": {
    "name": "ipython",
    "version": 3
   },
   "file_extension": ".py",
   "mimetype": "text/x-python",
   "name": "python",
   "nbconvert_exporter": "python",
   "pygments_lexer": "ipython3",
   "version": "3.8.0"
  }
 },
 "nbformat": 4,
 "nbformat_minor": 4
}
